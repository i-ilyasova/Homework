{
 "cells": [
  {
   "cell_type": "markdown",
   "id": "eba101ee",
   "metadata": {},
   "source": [
    "## Лабораторная работа 4"
   ]
  },
  {
   "cell_type": "code",
   "execution_count": 55,
   "id": "5188f76c-9a6a-4b8e-a0bc-0fdcfaf88e5c",
   "metadata": {},
   "outputs": [],
   "source": [
    "[\n",
    "  {\n",
    "    \"Имя\": \"Иван\",\n",
    "    \"Возраст\": 30,\n",
    "    \"Профессия\": \"учитель\",\n",
    "    \"Город\": \"Санкт-Петербург\"\n",
    "  },\n",
    "  {\n",
    "    \"Имя\": \"Анна\",\n",
    "    \"Возраст\": 25,\n",
    "    \"Профессия\": \"инженер\",\n",
    "    \"Город\": \"Москва\"\n",
    "  },\n",
    "  {\n",
    "    \"Имя\": \"Максим\",\n",
    "    \"Возраст\": 27,\n",
    "    \"Профессия\": \"программист\",\n",
    "    \"Город\": \"Екатеринбург\"\n",
    "  },\n",
    "  {\n",
    "    \"Имя\": \"Ольга\",\n",
    "    \"Возраст\": 26,\n",
    "    \"Профессия\": \"дизайнер\",\n",
    "    \"Город\": \"Краснодар\"\n",
    "  },\n",
    "  {\n",
    "    \"Имя\": \"Елена\",\n",
    "    \"Возраст\": 28,\n",
    "    \"Профессия\": \"врач\",\n",
    "    \"Город\": \"Новосибирск\"\n",
    "  }\n",
    "]\n",
    "\n"
   ]
  },
  {
   "cell_type": "code",
   "execution_count": null,
   "id": "8305dd04",
   "metadata": {},
   "outputs": [],
   "source": [
    "import json\n",
    "import xml.etree.ElementTree as ET\n",
    "\n",
    "def json_to_xml(json_data):\n",
    "    # Создаем корневой элемент XML\n",
    "    root = ET.Element(\"people\")\n",
    "    \n",
    "    for person in json_data:\n",
    "        # Для каждого человека создаем новый элемент\n",
    "        person_elem = ET.SubElement(root, \"person\")\n",
    "        \n",
    "        for key, value in person.items():\n",
    "            # Для каждого поля добавляем элемент с текстом\n",
    "            child_elem = ET.SubElement(person_elem, key)\n",
    "            child_elem.text = str(value)\n",
    "    \n",
    "    # Создаем дерево XML и возвращаем строку\n",
    "    tree = ET.ElementTree(root)\n",
    "    ET.indent(tree, space=\"  \", level=0)  # Добавление отступов для читаемости\n",
    "    return ET.tostring(root, encoding=\"unicode\")\n",
    "\n",
    "# Чтение данных из JSON файла\n",
    "with open('data.json', 'r', encoding='utf-8') as f:\n",
    "    data = json.load(f)\n",
    "\n",
    "# Конвертируем в XML\n",
    "xml_data = json_to_xml(data)\n",
    "\n",
    "# Сохраняем XML в файл\n",
    "with open('data.xml', 'w', encoding='utf-8') as f:\n",
    "    f.write(xml_data)\n",
    "\n",
    "print(\"Конвертация завершена, данные сохранены в 'data.xml'.\")\n"
   ]
  },
  {
   "cell_type": "code",
   "execution_count": null,
   "id": "a821698d",
   "metadata": {},
   "outputs": [],
   "source": []
  }
 ],
 "metadata": {
  "kernelspec": {
   "display_name": "Python 3 (ipykernel)",
   "language": "python",
   "name": "python3"
  },
  "language_info": {
   "codemirror_mode": {
    "name": "ipython",
    "version": 3
   },
   "file_extension": ".py",
   "mimetype": "text/x-python",
   "name": "python",
   "nbconvert_exporter": "python",
   "pygments_lexer": "ipython3",
   "version": "3.9.1"
  }
 },
 "nbformat": 4,
 "nbformat_minor": 5
}
