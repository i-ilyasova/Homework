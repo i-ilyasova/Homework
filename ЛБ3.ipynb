{
 "cells": [
  {
   "cell_type": "markdown",
   "id": "eba101ee",
   "metadata": {},
   "source": [
    "## Лабораторная работа 3"
   ]
  },
  {
   "cell_type": "code",
   "execution_count": 55,
   "id": "5188f76c-9a6a-4b8e-a0bc-0fdcfaf88e5c",
   "metadata": {},
   "outputs": [],
   "source": [
    "def min_breaks(n, m):\n",
    "    # Если одна из сторон или обе равны 1, то плитка уже наименьшего размера\n",
    "    if n == 1 and m == 1:\n",
    "        return 0\n",
    "    else:\n",
    "        return n * m - 1\n",
    "\n",
    "# Пример использования\n",
    "print(min_breaks(2, 2))  # Вывод: 3\n",
    "print(min_breaks(3, 5))  # Вывод: 14\n"
   ]
  }
 ],
 "metadata": {
  "kernelspec": {
   "display_name": "Python 3 (ipykernel)",
   "language": "python",
   "name": "python3"
  },
  "language_info": {
   "codemirror_mode": {
    "name": "ipython",
    "version": 3
   },
   "file_extension": ".py",
   "mimetype": "text/x-python",
   "name": "python",
   "nbconvert_exporter": "python",
   "pygments_lexer": "ipython3",
   "version": "3.9.1"
  }
 },
 "nbformat": 4,
 "nbformat_minor": 5
}
