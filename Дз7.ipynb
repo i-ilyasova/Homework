{
 "cells": [
  {
   "cell_type": "markdown",
   "id": "86b5c6c1",
   "metadata": {},
   "source": [
    "## Домашнее задание 7"
   ]
  },
  {
   "cell_type": "code",
   "execution_count": 1,
   "id": "8ffbfae3-803c-4606-8852-05e0837ac40a",
   "metadata": {},
   "outputs": [
    {
     "name": "stdout",
     "output_type": "stream",
     "text": [
      "\n",
      "Запуск на 10000 итераций\n",
      "Формула 1: 0.130245 секунд\n",
      "Формула 2: 0.089530 секунд\n",
      "Формула 3: 0.000433 секунд\n",
      "Общее время: 0.220554 секунд\n",
      "\n",
      "Запуск на 100000 итераций\n",
      "Формула 1: 1.262533 секунд\n",
      "Формула 2: 1.285055 секунд\n",
      "Формула 3: 0.005232 секунд\n",
      "Общее время: 2.553019 секунд\n"
     ]
    }
   ],
   "source": [
    "import time\n",
    "from concurrent.futures import ThreadPoolExecutor\n",
    "\n",
    "def formula_1(x):\n",
    "    return x**2 - x**2 + x**4 - x**5 + x + x\n",
    "\n",
    "def formula_2(x):\n",
    "    return x + x\n",
    "\n",
    "def compute_parallel(iterations):\n",
    "    start_time = time.time()\n",
    "\n",
    "    with ThreadPoolExecutor() as executor:\n",
    "        \n",
    "        start_f1 = time.time()\n",
    "        results_f1 = list(executor.map(formula_1, range(iterations)))\n",
    "        duration_f1 = time.time() - start_f1\n",
    "\n",
    "        \n",
    "        start_f2 = time.time()\n",
    "        results_f2 = list(executor.map(formula_2, range(iterations)))\n",
    "        duration_f2 = time.time() - start_f2\n",
    "\n",
    "   \n",
    "    start_f3 = time.time()\n",
    "    results_f3 = [r1 + r2 for r1, r2 in zip(results_f1, results_f2)]\n",
    "    duration_f3 = time.time() - start_f3\n",
    "\n",
    "    total_duration = time.time() - start_time\n",
    "    \n",
    "    return duration_f1, duration_f2, duration_f3, total_duration\n",
    "\n",
    "if __name__ == \"__main__\":\n",
    "    for iterations in [10_000, 100_000]:\n",
    "        print(f\"\\nЗапуск на {iterations} итераций\")\n",
    "        duration_f1, duration_f2, duration_f3, total_duration = compute_parallel(iterations)\n",
    "\n",
    "        print(f\"Формула 1: {duration_f1:.6f} секунд\")\n",
    "        print(f\"Формула 2: {duration_f2:.6f} секунд\")\n",
    "        print(f\"Формула 3: {duration_f3:.6f} секунд\")\n",
    "        print(f\"Общее время: {total_duration:.6f} секунд\")\n"
   ]
  }
 ],
 "metadata": {
  "kernelspec": {
   "display_name": "Python 3",
   "language": "python",
   "name": "python3"
  },
  "language_info": {
   "codemirror_mode": {
    "name": "ipython",
    "version": 3
   },
   "file_extension": ".py",
   "mimetype": "text/x-python",
   "name": "python",
   "nbconvert_exporter": "python",
   "pygments_lexer": "ipython3",
   "version": "3.9.6"
  }
 },
 "nbformat": 4,
 "nbformat_minor": 5
}
