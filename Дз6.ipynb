{
 "cells": [
  {
   "cell_type": "markdown",
   "id": "86b5c6c1",
   "metadata": {},
   "source": [
    "## Домашнее задание 6"
   ]
  },
  {
   "cell_type": "code",
   "execution_count": null,
   "id": "65c9b452",
   "metadata": {},
   "outputs": [],
   "source": [
    "import csv\n",
    "\n",
    "visit_log_file = '/mnt/data/visit_log__1_.csv'\n",
    "output_file = '/mnt/data/funnel.csv'\n",
    "\n",
    "with open(visit_log_file, mode='r', encoding='utf-8') as visits, \\\n",
    "     open(output_file, mode='w', encoding='utf-8', newline='') as funnel:\n",
    "    \n",
    "    reader = csv.reader(visits)\n",
    "    writer = csv.writer(funnel)\n",
    "    \n",
    "    writer.writerow(['user_id', 'source', 'category'])\n",
    "    \n",
    "    for row in reader:\n",
    "        if len(row) == 3 and row[2]: \n",
    "            writer.writerow(row)\n"
   ]
  }
 ],
 "metadata": {
  "kernelspec": {
   "display_name": "Python 3",
   "language": "python",
   "name": "python3"
  },
  "language_info": {
   "codemirror_mode": {
    "name": "ipython",
    "version": 3
   },
   "file_extension": ".py",
   "mimetype": "text/x-python",
   "name": "python",
   "nbconvert_exporter": "python",
   "pygments_lexer": "ipython3",
   "version": "3.9.6"
  }
 },
 "nbformat": 4,
 "nbformat_minor": 5
}
