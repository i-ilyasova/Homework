{
 "cells": [
  {
   "cell_type": "markdown",
   "metadata": {},
   "source": [
    "##  Лабораторная работа 2"
   ]
  },
  {
   "cell_type": "markdown",
   "metadata": {},
   "source": [
    "\n",
    "## Задание: \n",
    "Написать программу, которая поможет пользователям определить, сколько денег они могут сэкономить на покупках в разных магазинах. \n",
    "\n",
    "## Условия:\n",
    "Пользователь должен ввести список товаров, которые он собирается купить, и цены на эти товары в разных магазинах.\n",
    "Затем программа должна вывести список магазинов и общую стоимость покупок в каждом магазине, а также сообщить, в каком магазине пользователь может сэкономить больше всего денег.\n",
    "Список товаров и магазинов определяется самостоятельно.\n"
   ]
  },
  {
   "cell_type": "code",
   "execution_count": 144,
   "metadata": {},
   "outputs": [],
   "source": [
    "pyaterochka = {\n",
    "'молоко': 97.99,\n",
    "'pepsi': 129.44,\n",
    "'coca-cola': 125.15\n",
    "}"
   ]
  },
  {
   "cell_type": "code",
   "execution_count": 145,
   "metadata": {},
   "outputs": [],
   "source": [
    "magnit = {\n",
    "'молоко': 97.99,\n",
    "'pepsi': 148.44,\n",
    "'coca-сola': 110.15\n",
    "}"
   ]
  },
  {
   "cell_type": "code",
   "execution_count": 146,
   "metadata": {},
   "outputs": [],
   "source": [
    "fix_price = {\n",
    "'молоко': 10.99,\n",
    "'coca-cola': 110.15\n",
    "}"
   ]
  },
  {
   "cell_type": "code",
   "execution_count": 147,
   "metadata": {},
   "outputs": [],
   "source": [
    "products = input(\"Введите список товаров и цену к каждому товару через запятую: \").split()"
   ]
  },
  {
   "cell_type": "code",
   "execution_count": 148,
   "metadata": {},
   "outputs": [],
   "source": [
    "dct = {}\n",
    "\n",
    "for point in range(0,len(products),2):\n",
    "    dct[products[point]] = int(products[point+1])"
   ]
  },
  {
   "cell_type": "code",
   "execution_count": 160,
   "metadata": {},
   "outputs": [],
   "source": [
    "stores = [(magnit,'magnit'), (pyaterochka,'pyaterochka'), (fix_price, 'fix_price')]"
   ]
  },
  {
   "cell_type": "code",
   "execution_count": 167,
   "metadata": {},
   "outputs": [],
   "source": [
    "dct_list = dct.keys()\n"
   ]
  },
  {
   "cell_type": "code",
   "execution_count": 187,
   "metadata": {},
   "outputs": [],
   "source": [
    "result = {}\n",
    "for product in dct_list:\n",
    "    price = 1000000\n",
    "    for market in stores:\n",
    "        if product in [val.lower() for val in market[0].keys()]:\n",
    "            if market[0][product] < price:\n",
    "                price = market[0][product]\n",
    "                result[product] = price"
   ]
  },
  {
   "cell_type": "code",
   "execution_count": 188,
   "metadata": {},
   "outputs": [
    {
     "data": {
      "text/plain": [
       "{'pepsi': 129.44, 'молоко': 10.99}"
      ]
     },
     "execution_count": 188,
     "metadata": {},
     "output_type": "execute_result"
    }
   ],
   "source": [
    "result"
   ]
  }
 ],
 "metadata": {
  "kernelspec": {
   "display_name": "Python 3",
   "language": "python",
   "name": "python3"
  },
  "language_info": {
   "codemirror_mode": {
    "name": "ipython",
    "version": 3
   },
   "file_extension": ".py",
   "mimetype": "text/x-python",
   "name": "python",
   "nbconvert_exporter": "python",
   "pygments_lexer": "ipython3",
   "version": "3.9.6"
  }
 },
 "nbformat": 4,
 "nbformat_minor": 2
}
