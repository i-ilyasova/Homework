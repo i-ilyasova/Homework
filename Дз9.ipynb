{
 "cells": [
  {
   "cell_type": "markdown",
   "id": "86b5c6c1",
   "metadata": {},
   "source": [
    "## Домашнее задание 8"
   ]
  },
  {
   "cell_type": "code",
   "execution_count": 6,
   "id": "2e574184",
   "metadata": {},
   "outputs": [],
   "source": [
    "import re"
   ]
  },
  {
   "cell_type": "code",
   "execution_count": 24,
   "id": "dfb277db-56aa-4d75-b42b-bf4c4c701f40",
   "metadata": {},
   "outputs": [
    {
     "name": "stdout",
     "output_type": "stream",
     "text": [
      "Результат: Номер А222ВС валиден. Регион: 96\n"
     ]
    }
   ],
   "source": [
    "import re\n",
    "\n",
    "def number_of_car(id_number):\n",
    "    pattern = r'^([А-ЯЁ])(\\d{3})([А-ЯЁ]{2})(\\d{2,3})$'\n",
    "    match = re.match(pattern, id_number)  # Один раз вызываем re.match\n",
    "    \n",
    "    if match:\n",
    "        letter1, digits3, letters2, region = match.groups()\n",
    "        return f\"Результат: Номер {letter1}{digits3}{letters2} валиден. Регион: {region}\"\n",
    "    else:\n",
    "        return 'Результат: Номер не валиден'\n",
    "\n",
    "# Вызов функции с вводом пользователя\n",
    "print(number_of_car(input(\"Введите номер машины: \")))\n"
   ]
  },
  {
   "cell_type": "code",
   "execution_count": 29,
   "id": "c3f465bc",
   "metadata": {},
   "outputs": [
    {
     "name": "stdout",
     "output_type": "stream",
     "text": [
      "Результат: А222ВС96\n"
     ]
    }
   ],
   "source": [
    "def remove(id_number):\n",
    "    result = re.sub(r'\\b(\\w+)(\\s+\\1\\b)+', r'\\1', id_number)\n",
    "    return result\n",
    "\n",
    "cleaned_string = remove(id_number)\n",
    "print(\"Результат:\", cleaned_string)\n"
   ]
  }
 ],
 "metadata": {
  "kernelspec": {
   "display_name": "Python 3",
   "language": "python",
   "name": "python3"
  },
  "language_info": {
   "codemirror_mode": {
    "name": "ipython",
    "version": 3
   },
   "file_extension": ".py",
   "mimetype": "text/x-python",
   "name": "python",
   "nbconvert_exporter": "python",
   "pygments_lexer": "ipython3",
   "version": "3.9.6"
  }
 },
 "nbformat": 4,
 "nbformat_minor": 5
}
