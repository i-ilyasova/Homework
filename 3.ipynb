{
 "cells": [
  {
   "cell_type": "markdown",
   "metadata": {},
   "source": [
    "\n",
    "## Задание\n",
    "Написать код на Python в среде Jupyter Notebook для решения задачи.\n",
    "\n",
    "Необходимо написать программу, которая сформирует словарь данных на основании заданных критериев (ключ = ключ в исходной структуре, значение = True — если количество ниже 20 , False — остальные случаи). При разработке использовать dict comprehension."
   ]
  },
  {
   "cell_type": "code",
   "execution_count": 3,
   "metadata": {},
   "outputs": [],
   "source": [
    "items = {\n",
    " 'milk15':{'name': 'молоко 1.5%', 'count': 34, 'price': 89.9},\n",
    " 'cheese':{'name': 'сыр молочный 1 кг.', 'count': 12, 'price': 990.9},\n",
    " 'sausage':{'name': 'колбаса 1 кг.', 'count': 122, 'price': 1990.9}\n",
    "}"
   ]
  },
  {
   "cell_type": "code",
   "execution_count": 4,
   "metadata": {},
   "outputs": [],
   "source": [
    "new_dict= {key: value['count'] < 20 for key, value in items.items()}\n"
   ]
  },
  {
   "cell_type": "code",
   "execution_count": 5,
   "metadata": {},
   "outputs": [
    {
     "data": {
      "text/plain": [
       "{'milk15': False, 'cheese': True, 'sausage': False}"
      ]
     },
     "execution_count": 5,
     "metadata": {},
     "output_type": "execute_result"
    }
   ],
   "source": [
    "new_dict"
   ]
  },
  {
   "cell_type": "code",
   "execution_count": null,
   "metadata": {},
   "outputs": [],
   "source": []
  }
 ],
 "metadata": {
  "kernelspec": {
   "display_name": "Python 3",
   "language": "python",
   "name": "python3"
  },
  "language_info": {
   "codemirror_mode": {
    "name": "ipython",
    "version": 3
   },
   "file_extension": ".py",
   "mimetype": "text/x-python",
   "name": "python",
   "nbconvert_exporter": "python",
   "pygments_lexer": "ipython3",
   "version": "3.9.6"
  }
 },
 "nbformat": 4,
 "nbformat_minor": 2
}
