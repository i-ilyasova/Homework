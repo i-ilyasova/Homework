{
 "cells": [
  {
   "cell_type": "markdown",
   "metadata": {},
   "source": [
    "\n",
    "## Задание 1: \n",
    "Напишите код на Python в среде Jupyter Notebook для решения следующей задачи.\n",
    "\n",
    "Дана переменная, в которой хранится слово из латинских букв. Напишите код, который выводит на экран:\n",
    "\n",
    "среднюю букву, если число букв в слове нечётное;\n",
    "две средних буквы, если число букв чётное.\n",
    "\n",
    "Пример работы программы:\n",
    "\n",
    "word = 'test’\n",
    "Результат: es\n",
    "\n",
    "word = 'testing’\n",
    "Результат: t"
   ]
  },
  {
   "cell_type": "code",
   "execution_count": 23,
   "metadata": {},
   "outputs": [],
   "source": [
    "word = 'test'"
   ]
  },
  {
   "cell_type": "code",
   "execution_count": 24,
   "metadata": {},
   "outputs": [
    {
     "name": "stdout",
     "output_type": "stream",
     "text": [
      "es\n"
     ]
    }
   ],
   "source": [
    "if len(word) % 2 == 0:\n",
    "    mid_let = len(word) // 2\n",
    "    res = word[mid_let - 1:mid_let + 1]\n",
    "    print(res)\n",
    "else:    \n",
    "    mid_let = len(word) // 2\n",
    "    res2 = word[mid_let]\n",
    "    print(res2) \n",
    "    "
   ]
  }
 ],
 "metadata": {
  "kernelspec": {
   "display_name": "Python 3",
   "language": "python",
   "name": "python3"
  },
  "language_info": {
   "codemirror_mode": {
    "name": "ipython",
    "version": 3
   },
   "file_extension": ".py",
   "mimetype": "text/x-python",
   "name": "python",
   "nbconvert_exporter": "python",
   "pygments_lexer": "ipython3",
   "version": "3.9.6"
  }
 },
 "nbformat": 4,
 "nbformat_minor": 2
}
