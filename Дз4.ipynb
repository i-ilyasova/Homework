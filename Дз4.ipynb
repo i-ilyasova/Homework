{
 "cells": [
  {
   "cell_type": "code",
   "execution_count": 55,
   "id": "5188f76c-9a6a-4b8e-a0bc-0fdcfaf88e5c",
   "metadata": {},
   "outputs": [],
   "source": [
    "#kernel = cтержни, discs = диски\n",
    "def hanoi_tower(discs, kernel_1, kernel_2, kernel_3):\n",
    "    if discs == 1:\n",
    "        return\n",
    "    hanoi_tower(discs - 1 , kernel_1, kernel_2, kernel_3)\n",
    "    print (f'Блин {discs - 1}: Стержень {kernel_1} -> Стержень {kernel_2}.') \n",
    "    print (f'Блин {discs - 1}: Стержень {kernel_2} -> Стержень {kernel_3}.') \n"
   ]
  },
  {
   "cell_type": "code",
   "execution_count": 56,
   "id": "dfb277db-56aa-4d75-b42b-bf4c4c701f40",
   "metadata": {},
   "outputs": [
    {
     "name": "stdout",
     "output_type": "stream",
     "text": [
      "Блин 1: Стержень 1 -> Стержень 2.\n",
      "Блин 1: Стержень 2 -> Стержень 3.\n",
      "Блин 2: Стержень 1 -> Стержень 2.\n",
      "Блин 2: Стержень 2 -> Стержень 3.\n",
      "Блин 3: Стержень 1 -> Стержень 2.\n",
      "Блин 3: Стержень 2 -> Стержень 3.\n",
      "Блин 4: Стержень 1 -> Стержень 2.\n",
      "Блин 4: Стержень 2 -> Стержень 3.\n",
      "Блин 5: Стержень 1 -> Стержень 2.\n",
      "Блин 5: Стержень 2 -> Стержень 3.\n",
      "Блин 6: Стержень 1 -> Стержень 2.\n",
      "Блин 6: Стержень 2 -> Стержень 3.\n",
      "Блин 7: Стержень 1 -> Стержень 2.\n",
      "Блин 7: Стержень 2 -> Стержень 3.\n"
     ]
    }
   ],
   "source": [
    "hanoi_tower(8,1,2,3)"
   ]
  },
  {
   "cell_type": "code",
   "execution_count": null,
   "id": "a46bebe0-324c-43a4-8cb1-811d80ae00de",
   "metadata": {},
   "outputs": [],
   "source": []
  },
  {
   "cell_type": "code",
   "execution_count": null,
   "id": "8ffbfae3-803c-4606-8852-05e0837ac40a",
   "metadata": {},
   "outputs": [],
   "source": []
  }
 ],
 "metadata": {
  "kernelspec": {
   "display_name": "Python 3 (ipykernel)",
   "language": "python",
   "name": "python3"
  },
  "language_info": {
   "codemirror_mode": {
    "name": "ipython",
    "version": 3
   },
   "file_extension": ".py",
   "mimetype": "text/x-python",
   "name": "python",
   "nbconvert_exporter": "python",
   "pygments_lexer": "ipython3",
   "version": "3.9.1"
  }
 },
 "nbformat": 4,
 "nbformat_minor": 5
}
