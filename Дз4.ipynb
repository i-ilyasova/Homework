{
 "cells": [
  {
   "cell_type": "markdown",
   "id": "86b5c6c1",
   "metadata": {},
   "source": [
    "## Домашнее задание 4"
   ]
  },
  {
   "cell_type": "markdown",
   "id": "751a85b2",
   "metadata": {},
   "source": [
    "- Определить структуру хранения стержней и дисков.\n",
    "- Реализовать ввод начальных условий через консоль (количество стержней, количество дисков).\n",
    "- Реализовать алгоритм решения.\n",
    "- Описать принцип решения задачи по реализованному алгоритму.\n",
    "- Вывести решение на экран.\n",
    "- Записать решение в файл «решение.txt».\n"
   ]
  },
  {
   "cell_type": "markdown",
   "id": "b48fbdca",
   "metadata": {},
   "source": [
    "В задаче о Ханойской башне количество перемещений M для перемещения n дисков между тремя стержнями определяется по формуле:\n",
    "\n",
    "### M = 2^n -1\n",
    "Для 8 блинов (дисков) и 3 стержней можно подставить значение\n",
    "\n",
    "#### n = 8 => M = 2^8 - 1 = 255\n",
    "\n",
    "Таким образом, чтобы переместить 8 дисков на Ханойской башне с 3 стержнями, потребуется 255 перемещений."
   ]
  },
  {
   "cell_type": "markdown",
   "id": "9d9c0568",
   "metadata": {},
   "source": [
    "## Принцип алгоритма\n",
    "1.Объявляем функцию с аргументами: количеством дисков и стержней. (Используется рекурсия в процессе)\n",
    "\n",
    "2.Запускаем условный цикл пока не остнется дисков, будет производится алгоритм\n",
    "\n",
    "3.Мы перемещаем диск с первого стержня на второй стержень, а тертий используется как промежуточный. \n",
    "\n",
    "4.Производится построчная запись в файл\n",
    "\n",
    "5.Запись в файл и вызов функции"
   ]
  },
  {
   "cell_type": "code",
   "execution_count": 46,
   "id": "5188f76c-9a6a-4b8e-a0bc-0fdcfaf88e5c",
   "metadata": {},
   "outputs": [],
   "source": [
    "#kernel = cтержни, discs = диски\n",
    "def hanoi_tower(discs, kernel_1, kernel_2, kernel_3):\n",
    "    if discs == 1:\n",
    "        file.write(f'Блин {discs}: Стержень {kernel_1} -> Стержень {kernel_3}.\\n')\n",
    "        return\n",
    "    hanoi_tower(discs - 1, kernel_1, kernel_3, kernel_2)\n",
    "\n",
    "    file.write(f'Блин {discs}: Стержень {kernel_1} -> Стержень {kernel_3}.\\n')\n",
    "    hanoi_tower(discs - 1, kernel_2, kernel_1, kernel_3)\n",
    "    \n"
   ]
  },
  {
   "cell_type": "code",
   "execution_count": 47,
   "id": "dfb277db-56aa-4d75-b42b-bf4c4c701f40",
   "metadata": {},
   "outputs": [],
   "source": [
    "with open('решение.txt', 'w', encoding='utf-8') as file:\n",
    "    hanoi_tower(8, 1, 2, 3)"
   ]
  }
 ],
 "metadata": {
  "kernelspec": {
   "display_name": "Python 3",
   "language": "python",
   "name": "python3"
  },
  "language_info": {
   "codemirror_mode": {
    "name": "ipython",
    "version": 3
   },
   "file_extension": ".py",
   "mimetype": "text/x-python",
   "name": "python",
   "nbconvert_exporter": "python",
   "pygments_lexer": "ipython3",
   "version": "3.9.6"
  }
 },
 "nbformat": 4,
 "nbformat_minor": 5
}
