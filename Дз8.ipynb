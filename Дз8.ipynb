{
 "cells": [
  {
   "cell_type": "markdown",
   "id": "eba101ee",
   "metadata": {},
   "source": [
    "## Домашнее задание 8"
   ]
  },
  {
   "cell_type": "code",
   "execution_count": 5,
   "id": "531f9e16",
   "metadata": {},
   "outputs": [],
   "source": [
    "input_csv = '/Users/adelinailasova/Desktop/web_clients_correct.csv'\n",
    "output_txt = '/Users/adelinailasova/Desktop/customer_descriptions.txt'"
   ]
  },
  {
   "cell_type": "code",
   "execution_count": 6,
   "id": "5188f76c-9a6a-4b8e-a0bc-0fdcfaf88e5c",
   "metadata": {},
   "outputs": [],
   "source": [
    "import csv\n",
    "\n",
    "def generate_descriptions(input_csv, output_txt):\n",
    "    try:\n",
    "        with open(input_csv, mode='r', encoding='utf-8') as csv_file, open(output_txt, mode='w', encoding='utf-8') as txt_file:\n",
    "            reader = csv.DictReader(csv_file)\n",
    "\n",
    "            for row in reader:\n",
    "                name = row.get('ФИО', 'Неизвестно')\n",
    "                gender = row.get('Пол', 'не указан').lower()\n",
    "                age = row.get('Возраст', 'не указан')\n",
    "                device = row.get('Устройство, с которого выполнялась покупка', 'не указано')\n",
    "                browser = row.get('Браузер', 'не указан')\n",
    "                amount = row.get('Сумма чека', '0')\n",
    "                region = row.get('Регион покупки', 'не указан')\n",
    "\n",
    "                if gender == 'female':\n",
    "                    gender_text = 'женского пола'\n",
    "                    action = 'совершила'\n",
    "                elif gender == 'male':\n",
    "                    gender_text = 'мужского пола'\n",
    "                    action = 'совершил'\n",
    "                else:\n",
    "                    gender_text = 'неопределенного пола'\n",
    "                    action = 'совершил(а)'\n",
    "\n",
    "                description = (\n",
    "                    f\"Пользователь {name} {gender_text}, {age} лет {action} покупку на {amount} у.е. \"\n",
    "                    f\"с {device} браузера {browser}. Регион, из которого совершалась покупка: {region}.\"\n",
    "                )\n",
    "\n",
    "                # Запись в файл\n",
    "                txt_file.write(description + '\\n')\n",
    "\n",
    "        print(f\"Описания успешно записаны в файл {output_txt}.\")\n",
    "    except Exception as e:\n",
    "        print(f\"Ошибка: {e}\")\n",
    "\n"
   ]
  },
  {
   "cell_type": "code",
   "execution_count": 7,
   "id": "919e13c6",
   "metadata": {},
   "outputs": [
    {
     "name": "stdout",
     "output_type": "stream",
     "text": [
      "Описания успешно записаны в файл /Users/adelinailasova/Desktop/customer_descriptions.txt.\n"
     ]
    }
   ],
   "source": [
    "# Вызов функции\n",
    "generate_descriptions(input_csv, output_txt)"
   ]
  }
 ],
 "metadata": {
  "kernelspec": {
   "display_name": "Python 3",
   "language": "python",
   "name": "python3"
  },
  "language_info": {
   "codemirror_mode": {
    "name": "ipython",
    "version": 3
   },
   "file_extension": ".py",
   "mimetype": "text/x-python",
   "name": "python",
   "nbconvert_exporter": "python",
   "pygments_lexer": "ipython3",
   "version": "3.9.6"
  }
 },
 "nbformat": 4,
 "nbformat_minor": 5
}
